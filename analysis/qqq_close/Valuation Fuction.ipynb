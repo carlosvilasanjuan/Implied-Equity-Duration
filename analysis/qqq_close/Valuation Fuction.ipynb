{
 "cells": [
  {
   "cell_type": "markdown",
   "metadata": {},
   "source": [
    "#### MODULE IMPORTATION KERNEL #####"
   ]
  },
  {
   "cell_type": "code",
   "execution_count": 1,
   "metadata": {},
   "outputs": [],
   "source": [
    "# Data wrangling\n",
    "import pandas as pd\n",
    "import numpy as np\n",
    "# visualization\n",
    "from matplotlib import pyplot as plt\n",
    "from matplotlib.cm import get_cmap\n",
    "\n",
    "# ML\n",
    "from sklearn.linear_model import LogisticRegression\n",
    "from sklearn.model_selection import train_test_split\n",
    "from sklearn.linear_model import LogisticRegression\n",
    "from sklearn.model_selection import train_test_split\n",
    "from sklearn.metrics import mean_squared_error\n",
    "from sklearn.linear_model import LinearRegression, Lasso, Ridge, ElasticNet\n",
    "from sklearn.preprocessing import PolynomialFeatures\n",
    "from mlxtend.evaluate import bias_variance_decomp\n",
    "from sklearn.metrics import r2_score"
   ]
  },
  {
   "cell_type": "markdown",
   "metadata": {},
   "source": [
    "#### DATA IMPORTATION KERNEL #####"
   ]
  },
  {
   "cell_type": "code",
   "execution_count": 2,
   "metadata": {},
   "outputs": [],
   "source": [
    "df = pd.read_csv('../../data/processed/qqq_d_close').drop(columns='Unnamed: 0')\n",
    "df['date'] = pd.to_datetime(df['date'])\n",
    "df.rename(columns={\"close\":\"QQQ\",\"US05Y, TVC: Close\": \"US05Y\",\"US10Y, TVC: Close\":\"US10Y\",\"US30Y, TVC: Close\":\"US30Y\"}, inplace=True)\n",
    "df = df[df['US30Y'].notna()]"
   ]
  },
  {
   "cell_type": "markdown",
   "metadata": {},
   "source": [
    "#### HELPERS KERNEL ####  "
   ]
  },
  {
   "cell_type": "code",
   "execution_count": 18,
   "metadata": {},
   "outputs": [],
   "source": [
    "def fit_poly(X,y,k):\n",
    "    # Transforms our data to allow for Polynomial regression (Matrix from last class)\n",
    "    poly = PolynomialFeatures(k)\n",
    "    X_poly = poly.fit_transform(X.reshape(-1,1))\n",
    "    # Linear Regression Model\n",
    "    lr = LinearRegression()\n",
    "    lr.fit(X_poly,y)\n",
    "    return lr\n",
    "\n",
    "def polinomial2_regression (X, y):\n",
    "    X_train, X_test, y_train, y_test = train_test_split(X, y, test_size = .30, random_state=2)\n",
    "\n",
    "    # Calling\n",
    "    lr = fit_poly(X_train,y_train,2)\n",
    "\n",
    "    # Variables regression \n",
    "\n",
    "    # The function\n",
    "    b0,b1,b2 = lr.coef_\n",
    "    b0 = lr.intercept_\n",
    "    lr_func = lambda x: b0*x**0 + b1*x**1 + b2*x**2\n",
    "    \n",
    "    pre_process = PolynomialFeatures(degree=2)\n",
    "    test_y_pred = lr.predict(pre_process.fit_transform(X_test))\n",
    "\n",
    "    r2_test = r2_score(y_true=y_test, y_pred=test_y_pred )\n",
    "    \n",
    "    return (r2_test,lr.intercept_,lr.coef_,lr_func)\n",
    "\n",
    "def plotplinomial2_regression(X,y):\n",
    "    X_train, X_test, y_train, y_test = train_test_split(X, y, test_size = .30, random_state=2)\n",
    "    # Callin\n",
    "    lr = fit_poly(X_train,y_train,2)\n",
    "    # Variables regression\n",
    "    # The functio\n",
    "    b0,b1,b2 = lr.coef_\n",
    "    b0 = lr.intercept_\n",
    "    lr_func = lambda x: b0*x**0 + b1*x**1 + b2*x**2\n",
    "    # plotting on train\n",
    "    return plt.plot(X, lr_func(X))\n",
    "\n",
    "\n",
    "def plotlag(X,y):\n",
    "    plt.rcParams[\"figure.figsize\"] = (15,18)\n",
    "    for lagg in range (1,30):\n",
    "        plotplinomial2_regression(df[['US30Y']][:-lagg].values, df['QQQ'][lagg:].values)\n",
    "    \n",
    "    \n",
    "def plotprobability_reg(X,y,lagg):\n",
    "    y_std  = (np.std(y-lr_func(X)))/2\n",
    "\n",
    "    std5 = lr_func(X) + 2*y_std\n",
    "    std4 =  lr_func(X) + y_std\n",
    "    std2 = lr_func(X) -y_std\n",
    "    std1=  lr_func(X) -2 * y_std\n",
    "    std4_5 = lr_func(X) + 1.5*y_std\n",
    "    std1_5=  lr_func(X) -1.5 * y_std\n",
    "    std3_5 = lr_func(X) + 0.5*y_std\n",
    "    std0_5=  lr_func(X) -0.5 * y_std\n",
    "    \n",
    "    fig, ax = plt.subplots(figsize=(18,18)),\n",
    "    plt.scatter(X_test,y_test, marker='x', s=100, color=\"C0\"),\n",
    "    plt.scatter(X[-1:],y[-1:], marker = '+',color = 'r', s = 300),\n",
    "    plt.plot(X, lr_func(X),c=\"red\", alpha=0.5),\n",
    "    plt.plot(X, std5,c=\"C7\",alpha=0.5),\n",
    "    plt.plot(X, std4,c=\"C4\",alpha=0.5),\n",
    "    plt.plot(X, std2,c=\"C4\",alpha=0.5),\n",
    "    plt.plot(X, std1,c=\"C7\",alpha=0.5),\n",
    "    plt.plot(X, std4_5,c=\"C4\",alpha=0.3),\n",
    "    plt.plot(X, std1_5,c=\"C7\",alpha=0.3),\n",
    "    plt.plot(X, std3_5,c=\"red\",alpha=0.2),\n",
    "    plt.plot(X, std0_5,c=\"red\",alpha=0.2)\n",
    "    \n",
    "    "
   ]
  },
  {
   "cell_type": "code",
   "execution_count": 19,
   "metadata": {},
   "outputs": [
    {
     "ename": "TypeError",
     "evalue": "unsupported operand type(s) for -: 'float' and 'function'",
     "output_type": "error",
     "traceback": [
      "\u001b[0;31m---------------------------------------------------------------------------\u001b[0m",
      "\u001b[0;31mTypeError\u001b[0m                                 Traceback (most recent call last)",
      "\u001b[0;32m<ipython-input-19-0c96f85da3eb>\u001b[0m in \u001b[0;36m<module>\u001b[0;34m\u001b[0m\n\u001b[1;32m      2\u001b[0m \u001b[0mlr_func\u001b[0m \u001b[0;34m(\u001b[0m\u001b[0mX\u001b[0m\u001b[0;34m,\u001b[0m \u001b[0my\u001b[0m\u001b[0;34m)\u001b[0m\u001b[0;34m\u001b[0m\u001b[0;34m\u001b[0m\u001b[0m\n\u001b[1;32m      3\u001b[0m \u001b[0mpolinomial2_regression\u001b[0m\u001b[0;34m(\u001b[0m\u001b[0mX\u001b[0m\u001b[0;34m,\u001b[0m \u001b[0my\u001b[0m\u001b[0;34m)\u001b[0m\u001b[0;34m\u001b[0m\u001b[0;34m\u001b[0m\u001b[0m\n\u001b[0;32m----> 4\u001b[0;31m \u001b[0mplotprobability_reg\u001b[0m\u001b[0;34m(\u001b[0m\u001b[0mX\u001b[0m\u001b[0;34m,\u001b[0m\u001b[0my\u001b[0m\u001b[0;34m,\u001b[0m\u001b[0;36m30\u001b[0m\u001b[0;34m)\u001b[0m\u001b[0;34m\u001b[0m\u001b[0;34m\u001b[0m\u001b[0m\n\u001b[0m",
      "\u001b[0;32m<ipython-input-18-0520b1e99a01>\u001b[0m in \u001b[0;36mplotprobability_reg\u001b[0;34m(X, y, lagg)\u001b[0m\n\u001b[1;32m     71\u001b[0m \u001b[0;32mdef\u001b[0m \u001b[0mplotprobability_reg\u001b[0m\u001b[0;34m(\u001b[0m\u001b[0mX\u001b[0m\u001b[0;34m,\u001b[0m\u001b[0my\u001b[0m\u001b[0;34m,\u001b[0m\u001b[0mlagg\u001b[0m\u001b[0;34m)\u001b[0m\u001b[0;34m:\u001b[0m\u001b[0;34m\u001b[0m\u001b[0;34m\u001b[0m\u001b[0m\n\u001b[1;32m     72\u001b[0m     \u001b[0mlr_func\u001b[0m \u001b[0;34m(\u001b[0m\u001b[0mX\u001b[0m\u001b[0;34m,\u001b[0m \u001b[0my\u001b[0m\u001b[0;34m)\u001b[0m\u001b[0;34m\u001b[0m\u001b[0;34m\u001b[0m\u001b[0m\n\u001b[0;32m---> 73\u001b[0;31m     \u001b[0my_std\u001b[0m  \u001b[0;34m=\u001b[0m \u001b[0;34m(\u001b[0m\u001b[0mnp\u001b[0m\u001b[0;34m.\u001b[0m\u001b[0mstd\u001b[0m\u001b[0;34m(\u001b[0m\u001b[0my\u001b[0m\u001b[0;34m-\u001b[0m\u001b[0mlr_func\u001b[0m\u001b[0;34m(\u001b[0m\u001b[0mX\u001b[0m\u001b[0;34m,\u001b[0m\u001b[0my\u001b[0m\u001b[0;34m)\u001b[0m\u001b[0;34m)\u001b[0m\u001b[0;34m)\u001b[0m\u001b[0;34m/\u001b[0m\u001b[0;36m2\u001b[0m\u001b[0;34m\u001b[0m\u001b[0;34m\u001b[0m\u001b[0m\n\u001b[0m\u001b[1;32m     74\u001b[0m \u001b[0;34m\u001b[0m\u001b[0m\n\u001b[1;32m     75\u001b[0m     \u001b[0mstd5\u001b[0m \u001b[0;34m=\u001b[0m \u001b[0mlr_func\u001b[0m\u001b[0;34m(\u001b[0m\u001b[0mX\u001b[0m\u001b[0;34m,\u001b[0m\u001b[0my\u001b[0m\u001b[0;34m)\u001b[0m \u001b[0;34m+\u001b[0m \u001b[0;36m2\u001b[0m\u001b[0;34m*\u001b[0m\u001b[0my_std\u001b[0m\u001b[0;34m\u001b[0m\u001b[0;34m\u001b[0m\u001b[0m\n",
      "\u001b[0;31mTypeError\u001b[0m: unsupported operand type(s) for -: 'float' and 'function'"
     ]
    }
   ],
   "source": [
    "X, y = df[['US30Y']][:-28].values, df['QQQ'][28:].values\n",
    "lr_func (X, y)\n",
    "polinomial2_regression(X, y)\n",
    "plotprobability_reg(X,y,30)"
   ]
  },
  {
   "cell_type": "code",
   "execution_count": null,
   "metadata": {},
   "outputs": [],
   "source": []
  }
 ],
 "metadata": {
  "kernelspec": {
   "display_name": "Python 3",
   "language": "python",
   "name": "python3"
  },
  "language_info": {
   "codemirror_mode": {
    "name": "ipython",
    "version": 3
   },
   "file_extension": ".py",
   "mimetype": "text/x-python",
   "name": "python",
   "nbconvert_exporter": "python",
   "pygments_lexer": "ipython3",
   "version": "3.8.5"
  }
 },
 "nbformat": 4,
 "nbformat_minor": 4
}
